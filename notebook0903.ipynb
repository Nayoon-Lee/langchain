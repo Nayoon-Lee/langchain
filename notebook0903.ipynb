{
 "cells": [
  {
   "cell_type": "code",
   "execution_count": 3,
   "metadata": {},
   "outputs": [
    {
     "data": {
      "text/plain": [
       "'There are 8 planets in our solar system: Mercury, Venus, Earth, Mars, Jupiter, Saturn, Uranus, and Neptune.'"
      ]
     },
     "execution_count": 3,
     "metadata": {},
     "output_type": "execute_result"
    }
   ],
   "source": [
    "from langchain.chat_models import ChatOpenAI\n",
    "\n",
    "chat = ChatOpenAI() # model=\"gpt-3.5-turbo-instruct\"을 기본으로 사용, 그외 temperature, max_token 등 튜닝이 가능.\n",
    "\n",
    "b = chat.predict(\"How many planets are there?\")\n",
    "\n",
    "b"
   ]
  },
  {
   "cell_type": "code",
   "execution_count": 4,
   "metadata": {},
   "outputs": [
    {
     "data": {
      "text/plain": [
       "AIMessage(content='La distancia entre México y Tailandia es de aproximadamente 16,000 kilómetros. Mi nombre es Laura. ¿Hay algo más en lo que te pueda ayudar?')"
      ]
     },
     "execution_count": 4,
     "metadata": {},
     "output_type": "execute_result"
    }
   ],
   "source": [
    "from langchain.schema import HumanMessage, AIMessage, SystemMessage # 인간, AI, LLM 설정을 제공하기 위한 메시지\n",
    "\n",
    "messages = [\n",
    "    SystemMessage(\n",
    "        content=\"Your are a geography expert. And you only reply in Spanish.\",\n",
    "        ), \n",
    "    AIMessage(\n",
    "        content=\"Hola, me llamo Laura!\"\n",
    "        ),\n",
    "    HumanMessage(\n",
    "        content=\"What is the distance between Mexico and Thailand. Also, what is your name?\"\n",
    "        )\n",
    "]\n",
    "\n",
    "chat.predict_messages(messages)\n",
    "\n",
    "# 이전에 string을 predict 했다면 이번에는 message의 리스트를 predict하게 함. \n",
    "# 일종의 설정을 넘겨주어 AI가 답변하게 만들었음.\n"
   ]
  },
  {
   "cell_type": "code",
   "execution_count": 10,
   "metadata": {},
   "outputs": [
    {
     "data": {
      "text/plain": [
       "AIMessage(content='Γεια σας! Η απόσταση μεταξύ του Μεξικού και της Ταϊλάνδης είναι περίπου 16.000 χιλιόμετρα. Το όνομά μου είναι Σωκράτης. Πώς μπορώ να βοηθήσω;')"
      ]
     },
     "execution_count": 10,
     "metadata": {},
     "output_type": "execute_result"
    }
   ],
   "source": [
    "# langchain은 prompt에 많은 utility를 제공하고 있음. \n",
    "# prompt끼리 결합, 저장 또는 불러올 수 있음. 변수 설정 도중에 실수는 하지 않았는지 검증도 할 수 있음. \n",
    "from langchain.chat_models import ChatOpenAI\n",
    "from langchain.prompts import PromptTemplate, ChatPromptTemplate # template을 string으로 받냐, message로 받냐의 차이\n",
    "\n",
    "chat = ChatOpenAI(temperature=0.1)\n",
    "\n",
    "template = PromptTemplate.from_template(\n",
    "    \"What is the distance between {country_a} and {country_b}?\"\n",
    ")\n",
    "\n",
    "# ChatPromptTemplate를 통해 template을 system, ai, human 이렇게 나누어서 커스텀하기 편해짐\n",
    "template = ChatPromptTemplate.from_messages([\n",
    "    (\"system\", \"Your are a geography expert. And you only reply in {language}.\"), \n",
    "    (\"ai\", \"Hola, me llamo {name}!\"),\n",
    "    ('human', \"What is the distance between {country_a} and {country_b}. Also, what is your name?\")\n",
    "])\n",
    "\n",
    "# 변수들을 검증할 수 있음. \n",
    "prompt = template.format_messages(language=\"Greek\", \n",
    "                         name='Socrates', \n",
    "                         country_a=\"Mexico\", \n",
    "                         country_b='Thailand')\n",
    "\n",
    "chat.predict_messages(prompt)\n"
   ]
  },
  {
   "cell_type": "code",
   "execution_count": 13,
   "metadata": {},
   "outputs": [
    {
     "data": {
      "text/plain": [
       "['Hello', 'how', 'are', 'you']"
      ]
     },
     "execution_count": 13,
     "metadata": {},
     "output_type": "execute_result"
    }
   ],
   "source": [
    "from langchain.schema import BaseOutputParser\n",
    "\n",
    "class CommaOutputParser(BaseOutputParser):\n",
    "    def parse(self, text):\n",
    "        items = text.strip().split(\",\")\n",
    "        return list(map(str.strip, items))\n",
    "p = CommaOutputParser()\n",
    "p.parse(\"Hello, how, are, you\")\n"
   ]
  },
  {
   "cell_type": "code",
   "execution_count": 17,
   "metadata": {},
   "outputs": [
    {
     "data": {
      "text/plain": [
       "['red',\n",
       " 'blue',\n",
       " 'green',\n",
       " 'yellow',\n",
       " 'orange',\n",
       " 'purple',\n",
       " 'pink',\n",
       " 'black',\n",
       " 'white',\n",
       " 'brown']"
      ]
     },
     "execution_count": 17,
     "metadata": {},
     "output_type": "execute_result"
    }
   ],
   "source": [
    "template = ChatPromptTemplate.from_messages([\n",
    "    (\"system\", \"You are a list generating machine. Everything you are asked will be answered with a comma separated list of max {max_items} in lower case. Do NOT reply with anything else.\"),\n",
    "    (\"human\", \"{question}\")]\n",
    ")\n",
    "\n",
    "prompt = template.format_messages(max_items=10, question=\"What are the colors?\")\n",
    "\n",
    "result = chat.predict_messages(prompt)\n",
    "\n",
    "p = CommaOutputParser()\n",
    "\n",
    "p.parse(result.content)"
   ]
  },
  {
   "cell_type": "code",
   "execution_count": 19,
   "metadata": {},
   "outputs": [
    {
     "data": {
      "text/plain": [
       "['pikachu', 'charmander', 'bulbasaur', 'squirtle', 'jigglypuff']"
      ]
     },
     "execution_count": 19,
     "metadata": {},
     "output_type": "execute_result"
    }
   ],
   "source": [
    "chain = template | chat | CommaOutputParser()\n",
    "# 여러 chain을 결합해서도 사용할 수 있음. ex. all = chain_1 | chain_2\n",
    "\n",
    "chain.invoke({\"max_items\": 5, \"question\":\"What are the pokemons?\"})"
   ]
  },
  {
   "cell_type": "code",
   "execution_count": 25,
   "metadata": {},
   "outputs": [],
   "source": [
    "from langchain.chat_models import ChatOpenAI\n",
    "from langchain.prompts import ChatPromptTemplate\n",
    "from langchain.callbacks import StreamingStdOutCallbackHandler\n",
    "\n",
    "chat = ChatOpenAI(temperature=0.1,\n",
    "                  streaming=True,\n",
    "                  callbacks=[\n",
    "                      StreamingStdOutCallbackHandler()\n",
    "                      ])\n",
    "\n",
    "chef_prompt = ChatPromptTemplate.from_messages([\n",
    "    (\"system\", \"You are a world-class international chef. You create eay to follow recipies for any type of cusine with easy to find ingredients.\"),\n",
    "    (\"human\", \"I want to cook {cuisine} food.\")\n",
    "])\n",
    "\n",
    "chef_chain = chef_prompt | chat \n",
    "\n"
   ]
  },
  {
   "cell_type": "code",
   "execution_count": 26,
   "metadata": {},
   "outputs": [
    {
     "name": "stdout",
     "output_type": "stream",
     "text": [
      "Korean cuisine is known for its bold flavors and unique ingredients. One popular dish that you can easily make at home is Bibimbap, a delicious and colorful mixed rice bowl. Here's a simple recipe for Bibimbap:\n",
      "\n",
      "Ingredients:\n",
      "- 2 cups cooked short-grain rice\n",
      "- 1 cup assorted vegetables (such as spinach, carrots, zucchini, mushrooms, bean sprouts)\n",
      "- 1/2 cup protein of your choice (such as beef, chicken, tofu)\n",
      "- 2 eggs\n",
      "- 2 tablespoons soy sauce\n",
      "- 1 tablespoon sesame oil\n",
      "- 1 tablespoon gochujang (Korean chili paste)\n",
      "- 1 tablespoon sesame seeds\n",
      "- Salt and pepper to taste\n",
      "- Vegetable oil for cooking\n",
      "\n",
      "Instructions:\n",
      "1. Prepare the vegetables: Wash and chop the assorted vegetables into bite-sized pieces. Cook each vegetable separately in a pan with a little vegetable oil until tender. Season with salt and pepper to taste.\n",
      "\n",
      "2. Cook the protein: Season the protein of your choice with salt and pepper. Cook in a pan with a little vegetable oil until fully cooked. Set aside.\n",
      "\n",
      "3. Fry the eggs: In a separate pan, fry the eggs sunny-side up or over easy.\n",
      "\n",
      "4. Assemble the Bibimbap: Divide the cooked rice into bowls. Arrange the cooked vegetables and protein on top of the rice. Place the fried egg on top.\n",
      "\n",
      "5. Make the Bibimbap sauce: In a small bowl, mix together soy sauce, sesame oil, gochujang, and sesame seeds. Adjust the seasoning to taste.\n",
      "\n",
      "6. Serve: Drizzle the Bibimbap sauce over the rice bowl. Mix everything together before eating to combine all the flavors.\n",
      "\n",
      "Enjoy your homemade Bibimbap! Feel free to customize the ingredients to your liking and add more toppings such as kimchi or pickled radish for extra flavor.For a vegetarian version of Bibimbap, you can easily substitute the protein with tofu or tempeh. Here's how you can prepare them:\n",
      "\n",
      "1. **Tofu**: \n",
      "   - Use firm or extra-firm tofu for Bibimbap.\n",
      "   - Press the tofu to remove excess water. You can do this by wrapping the tofu block in a clean kitchen towel and placing a heavy object on top for about 15-30 minutes.\n",
      "   - Cut the tofu into cubes or slices, whichever you prefer.\n",
      "   - Season the tofu with salt and pepper, and you can also marinate it in a mixture of soy sauce, sesame oil, and a bit of gochujang for extra flavor.\n",
      "   - Cook the tofu in a pan with a little vegetable oil until it's golden brown and slightly crispy on the outside.\n",
      "\n",
      "2. **Tempeh**:\n",
      "   - Tempeh is another great plant-based protein option for Bibimbap.\n",
      "   - Cut the tempeh into cubes or slices.\n",
      "   - You can steam the tempeh for about 10 minutes before cooking to reduce its bitterness.\n",
      "   - Season the tempeh with salt and pepper, and you can also marinate it in a mixture of soy sauce, sesame oil, and a bit of gochujang.\n",
      "   - Cook the tempeh in a pan with a little vegetable oil until it's browned and crispy on the edges.\n",
      "\n",
      "By following these steps, you can easily replace the meat in the Bibimbap recipe with tofu or tempeh while still enjoying a flavorful and satisfying meal."
     ]
    },
    {
     "data": {
      "text/plain": [
       "AIMessageChunk(content=\"For a vegetarian version of Bibimbap, you can easily substitute the protein with tofu or tempeh. Here's how you can prepare them:\\n\\n1. **Tofu**: \\n   - Use firm or extra-firm tofu for Bibimbap.\\n   - Press the tofu to remove excess water. You can do this by wrapping the tofu block in a clean kitchen towel and placing a heavy object on top for about 15-30 minutes.\\n   - Cut the tofu into cubes or slices, whichever you prefer.\\n   - Season the tofu with salt and pepper, and you can also marinate it in a mixture of soy sauce, sesame oil, and a bit of gochujang for extra flavor.\\n   - Cook the tofu in a pan with a little vegetable oil until it's golden brown and slightly crispy on the outside.\\n\\n2. **Tempeh**:\\n   - Tempeh is another great plant-based protein option for Bibimbap.\\n   - Cut the tempeh into cubes or slices.\\n   - You can steam the tempeh for about 10 minutes before cooking to reduce its bitterness.\\n   - Season the tempeh with salt and pepper, and you can also marinate it in a mixture of soy sauce, sesame oil, and a bit of gochujang.\\n   - Cook the tempeh in a pan with a little vegetable oil until it's browned and crispy on the edges.\\n\\nBy following these steps, you can easily replace the meat in the Bibimbap recipe with tofu or tempeh while still enjoying a flavorful and satisfying meal.\")"
      ]
     },
     "execution_count": 26,
     "metadata": {},
     "output_type": "execute_result"
    }
   ],
   "source": [
    "veg_chef_prompt = ChatPromptTemplate.from_messages(\n",
    "    [\n",
    "        (\n",
    "            \"system\",\n",
    "            \"You are a vegetarian chef specialized on making traditional recipies vegetarian. You find alternative ingredients and explain their preparation. You don't radically modify the recipe. If there is no alternative for a food just say you don't know how to replace it.\",\n",
    "        ),\n",
    "        (\"human\", \"{recipe}\"),\n",
    "    ]\n",
    ")\n",
    "# recipe라는 placeholder를 두고 있는 상태.\n",
    "\n",
    "veg_chain = veg_chef_prompt | chat\n",
    "\n",
    "\n",
    "final_chain = {\"recipe\": chef_chain} | veg_chain \n",
    "# chef_chain의 출력값은 veg_chef_prompt의 입력값인 recipe가 되어야함.\n",
    "# 이게 바로 RunnableMap : langchain이 먼저 chef_chain을 먼저 돌리고 그 응답 결과를 다음 요소에게 전달하는 것. \n",
    "\n",
    "final_chain.invoke({\"cuisine\": \"korean\"})"
   ]
  },
  {
   "cell_type": "code",
   "execution_count": null,
   "metadata": {},
   "outputs": [],
   "source": []
  },
  {
   "cell_type": "code",
   "execution_count": null,
   "metadata": {},
   "outputs": [],
   "source": []
  },
  {
   "cell_type": "code",
   "execution_count": null,
   "metadata": {},
   "outputs": [],
   "source": []
  },
  {
   "cell_type": "code",
   "execution_count": null,
   "metadata": {},
   "outputs": [],
   "source": []
  },
  {
   "cell_type": "code",
   "execution_count": null,
   "metadata": {},
   "outputs": [],
   "source": []
  },
  {
   "cell_type": "code",
   "execution_count": null,
   "metadata": {},
   "outputs": [],
   "source": []
  },
  {
   "cell_type": "code",
   "execution_count": null,
   "metadata": {},
   "outputs": [],
   "source": []
  },
  {
   "cell_type": "code",
   "execution_count": null,
   "metadata": {},
   "outputs": [],
   "source": []
  },
  {
   "cell_type": "code",
   "execution_count": null,
   "metadata": {},
   "outputs": [],
   "source": []
  }
 ],
 "metadata": {
  "kernelspec": {
   "display_name": "env",
   "language": "python",
   "name": "python3"
  },
  "language_info": {
   "codemirror_mode": {
    "name": "ipython",
    "version": 3
   },
   "file_extension": ".py",
   "mimetype": "text/x-python",
   "name": "python",
   "nbconvert_exporter": "python",
   "pygments_lexer": "ipython3",
   "version": "3.11.7"
  },
  "orig_nbformat": 4
 },
 "nbformat": 4,
 "nbformat_minor": 2
}
